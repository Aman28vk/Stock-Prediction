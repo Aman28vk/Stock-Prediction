{
 "cells": [
  {
   "cell_type": "code",
   "execution_count": 1,
   "metadata": {
    "id": "2kOICWeifu6Q"
   },
   "outputs": [],
   "source": [
    "import numpy as np\n",
    "import matplotlib.pyplot as plt\n",
    "import pandas as pd\n",
    "from sklearn.preprocessing import StandardScaler\n",
    "from sklearn.model_selection import train_test_split ,  GridSearchCV\n",
    "from sklearn.svm import SVR\n",
    "from sklearn.metrics import mean_squared_error, mean_absolute_error, r2_score\n",
    "import math\n",
    "from copy import deepcopy as dc"
   ]
  },
  {
   "cell_type": "code",
   "execution_count": 2,
   "metadata": {
    "id": "6JIKVsNQfvsz"
   },
   "outputs": [],
   "source": [
    "data = pd.read_excel('Nasdaq.xlsx', date_parser = True)"
   ]
  },
  {
   "cell_type": "code",
   "execution_count": 3,
   "metadata": {
    "id": "yDhxYzflgMtB"
   },
   "outputs": [],
   "source": [
    "data = data[['Local Time', 'Close']]"
   ]
  },
  {
   "cell_type": "code",
   "execution_count": 4,
   "metadata": {
    "id": "VEqhosdYh7SB"
   },
   "outputs": [],
   "source": [
    "data['Local Time'] = pd.to_datetime(data['Local Time'])"
   ]
  },
  {
   "cell_type": "code",
   "execution_count": 5,
   "metadata": {
    "colab": {
     "base_uri": "https://localhost:8080/",
     "height": 455
    },
    "executionInfo": {
     "elapsed": 11,
     "status": "ok",
     "timestamp": 1696075784505,
     "user": {
      "displayName": "Abdur Rehman",
      "userId": "02867295503429179451"
     },
     "user_tz": -330
    },
    "id": "KXB0ZvAui2IY",
    "outputId": "2cb3c74c-c90d-4623-f9b3-8a44e2068599"
   },
   "outputs": [
    {
     "data": {
      "text/html": [
       "<div>\n",
       "<style scoped>\n",
       "    .dataframe tbody tr th:only-of-type {\n",
       "        vertical-align: middle;\n",
       "    }\n",
       "\n",
       "    .dataframe tbody tr th {\n",
       "        vertical-align: top;\n",
       "    }\n",
       "\n",
       "    .dataframe thead th {\n",
       "        text-align: right;\n",
       "    }\n",
       "</style>\n",
       "<table border=\"1\" class=\"dataframe\">\n",
       "  <thead>\n",
       "    <tr style=\"text-align: right;\">\n",
       "      <th></th>\n",
       "      <th>Close</th>\n",
       "      <th>Close(t-1)</th>\n",
       "      <th>Close(t-2)</th>\n",
       "      <th>Close(t-3)</th>\n",
       "      <th>Close(t-4)</th>\n",
       "      <th>Close(t-5)</th>\n",
       "    </tr>\n",
       "    <tr>\n",
       "      <th>Local Time</th>\n",
       "      <th></th>\n",
       "      <th></th>\n",
       "      <th></th>\n",
       "      <th></th>\n",
       "      <th></th>\n",
       "      <th></th>\n",
       "    </tr>\n",
       "  </thead>\n",
       "  <tbody>\n",
       "    <tr>\n",
       "      <th>2022-06-09 03:40:00</th>\n",
       "      <td>12086.271</td>\n",
       "      <td>12086.271</td>\n",
       "      <td>12086.271</td>\n",
       "      <td>12086.271</td>\n",
       "      <td>12086.271</td>\n",
       "      <td>12086.271</td>\n",
       "    </tr>\n",
       "    <tr>\n",
       "      <th>2022-06-09 03:35:00</th>\n",
       "      <td>12086.271</td>\n",
       "      <td>12086.271</td>\n",
       "      <td>12086.271</td>\n",
       "      <td>12086.271</td>\n",
       "      <td>12086.271</td>\n",
       "      <td>12086.271</td>\n",
       "    </tr>\n",
       "    <tr>\n",
       "      <th>2022-06-09 03:30:00</th>\n",
       "      <td>12086.271</td>\n",
       "      <td>12086.271</td>\n",
       "      <td>12086.271</td>\n",
       "      <td>12086.271</td>\n",
       "      <td>12086.271</td>\n",
       "      <td>12086.271</td>\n",
       "    </tr>\n",
       "    <tr>\n",
       "      <th>2022-06-09 03:25:00</th>\n",
       "      <td>12086.271</td>\n",
       "      <td>12086.271</td>\n",
       "      <td>12086.271</td>\n",
       "      <td>12086.271</td>\n",
       "      <td>12086.271</td>\n",
       "      <td>12086.271</td>\n",
       "    </tr>\n",
       "    <tr>\n",
       "      <th>2022-06-09 03:20:00</th>\n",
       "      <td>12086.271</td>\n",
       "      <td>12086.271</td>\n",
       "      <td>12086.271</td>\n",
       "      <td>12086.271</td>\n",
       "      <td>12086.271</td>\n",
       "      <td>12086.271</td>\n",
       "    </tr>\n",
       "    <tr>\n",
       "      <th>...</th>\n",
       "      <td>...</td>\n",
       "      <td>...</td>\n",
       "      <td>...</td>\n",
       "      <td>...</td>\n",
       "      <td>...</td>\n",
       "      <td>...</td>\n",
       "    </tr>\n",
       "    <tr>\n",
       "      <th>2021-06-09 17:55:00</th>\n",
       "      <td>13949.599</td>\n",
       "      <td>13971.104</td>\n",
       "      <td>13962.716</td>\n",
       "      <td>13958.930</td>\n",
       "      <td>13950.386</td>\n",
       "      <td>13941.382</td>\n",
       "    </tr>\n",
       "    <tr>\n",
       "      <th>2021-06-09 17:50:00</th>\n",
       "      <td>13977.323</td>\n",
       "      <td>13949.599</td>\n",
       "      <td>13971.104</td>\n",
       "      <td>13962.716</td>\n",
       "      <td>13958.930</td>\n",
       "      <td>13950.386</td>\n",
       "    </tr>\n",
       "    <tr>\n",
       "      <th>2021-06-09 17:45:00</th>\n",
       "      <td>13983.740</td>\n",
       "      <td>13977.323</td>\n",
       "      <td>13949.599</td>\n",
       "      <td>13971.104</td>\n",
       "      <td>13962.716</td>\n",
       "      <td>13958.930</td>\n",
       "    </tr>\n",
       "    <tr>\n",
       "      <th>2021-06-09 17:40:00</th>\n",
       "      <td>13979.654</td>\n",
       "      <td>13983.740</td>\n",
       "      <td>13977.323</td>\n",
       "      <td>13949.599</td>\n",
       "      <td>13971.104</td>\n",
       "      <td>13962.716</td>\n",
       "    </tr>\n",
       "    <tr>\n",
       "      <th>2021-06-09 17:35:00</th>\n",
       "      <td>13977.243</td>\n",
       "      <td>13979.654</td>\n",
       "      <td>13983.740</td>\n",
       "      <td>13977.323</td>\n",
       "      <td>13949.599</td>\n",
       "      <td>13971.104</td>\n",
       "    </tr>\n",
       "  </tbody>\n",
       "</table>\n",
       "<p>32002 rows × 6 columns</p>\n",
       "</div>"
      ],
      "text/plain": [
       "                         Close  Close(t-1)  Close(t-2)  Close(t-3)  \\\n",
       "Local Time                                                           \n",
       "2022-06-09 03:40:00  12086.271   12086.271   12086.271   12086.271   \n",
       "2022-06-09 03:35:00  12086.271   12086.271   12086.271   12086.271   \n",
       "2022-06-09 03:30:00  12086.271   12086.271   12086.271   12086.271   \n",
       "2022-06-09 03:25:00  12086.271   12086.271   12086.271   12086.271   \n",
       "2022-06-09 03:20:00  12086.271   12086.271   12086.271   12086.271   \n",
       "...                        ...         ...         ...         ...   \n",
       "2021-06-09 17:55:00  13949.599   13971.104   13962.716   13958.930   \n",
       "2021-06-09 17:50:00  13977.323   13949.599   13971.104   13962.716   \n",
       "2021-06-09 17:45:00  13983.740   13977.323   13949.599   13971.104   \n",
       "2021-06-09 17:40:00  13979.654   13983.740   13977.323   13949.599   \n",
       "2021-06-09 17:35:00  13977.243   13979.654   13983.740   13977.323   \n",
       "\n",
       "                     Close(t-4)  Close(t-5)  \n",
       "Local Time                                   \n",
       "2022-06-09 03:40:00   12086.271   12086.271  \n",
       "2022-06-09 03:35:00   12086.271   12086.271  \n",
       "2022-06-09 03:30:00   12086.271   12086.271  \n",
       "2022-06-09 03:25:00   12086.271   12086.271  \n",
       "2022-06-09 03:20:00   12086.271   12086.271  \n",
       "...                         ...         ...  \n",
       "2021-06-09 17:55:00   13950.386   13941.382  \n",
       "2021-06-09 17:50:00   13958.930   13950.386  \n",
       "2021-06-09 17:45:00   13962.716   13958.930  \n",
       "2021-06-09 17:40:00   13971.104   13962.716  \n",
       "2021-06-09 17:35:00   13949.599   13971.104  \n",
       "\n",
       "[32002 rows x 6 columns]"
      ]
     },
     "execution_count": 5,
     "metadata": {},
     "output_type": "execute_result"
    }
   ],
   "source": [
    "def dataframe_transform_lstm(df, n_steps):\n",
    "    df = dc(df)\n",
    "\n",
    "    df.set_index('Local Time', inplace=True)\n",
    "\n",
    "    for i in range(1, n_steps+1):\n",
    "        df[f'Close(t-{i})'] = df['Close'].shift(i)\n",
    "\n",
    "    df.dropna(inplace=True)\n",
    "\n",
    "    return df\n",
    "\n",
    "lookback = 5\n",
    "transformdf = dataframe_transform_lstm(data, lookback)\n",
    "transformdf"
   ]
  },
  {
   "cell_type": "code",
   "execution_count": 6,
   "metadata": {
    "colab": {
     "base_uri": "https://localhost:8080/"
    },
    "executionInfo": {
     "elapsed": 10,
     "status": "ok",
     "timestamp": 1696075784506,
     "user": {
      "displayName": "Abdur Rehman",
      "userId": "02867295503429179451"
     },
     "user_tz": -330
    },
    "id": "3yAS-qp4i5Jg",
    "outputId": "dec5f19f-d917-412f-fc40-22d5f7812bcc"
   },
   "outputs": [
    {
     "data": {
      "text/plain": [
       "array([[12086.271, 12086.271, 12086.271, 12086.271, 12086.271, 12086.271],\n",
       "       [12086.271, 12086.271, 12086.271, 12086.271, 12086.271, 12086.271],\n",
       "       [12086.271, 12086.271, 12086.271, 12086.271, 12086.271, 12086.271],\n",
       "       ...,\n",
       "       [13983.74 , 13977.323, 13949.599, 13971.104, 13962.716, 13958.93 ],\n",
       "       [13979.654, 13983.74 , 13977.323, 13949.599, 13971.104, 13962.716],\n",
       "       [13977.243, 13979.654, 13983.74 , 13977.323, 13949.599, 13971.104]])"
      ]
     },
     "execution_count": 6,
     "metadata": {},
     "output_type": "execute_result"
    }
   ],
   "source": [
    "transformdf_np = transformdf.to_numpy()\n",
    "transformdf_np"
   ]
  },
  {
   "cell_type": "code",
   "execution_count": 7,
   "metadata": {
    "id": "mdteZtrvi8Kg"
   },
   "outputs": [],
   "source": [
    "scaler = StandardScaler()\n",
    "transformdf_np = scaler.fit_transform(transformdf_np)"
   ]
  },
  {
   "cell_type": "code",
   "execution_count": 8,
   "metadata": {
    "colab": {
     "base_uri": "https://localhost:8080/"
    },
    "executionInfo": {
     "elapsed": 9,
     "status": "ok",
     "timestamp": 1696075784506,
     "user": {
      "displayName": "Abdur Rehman",
      "userId": "02867295503429179451"
     },
     "user_tz": -330
    },
    "id": "V9E9s2lPi_g0",
    "outputId": "5c3b0769-2548-4e5b-9021-aec6d8d7b34a"
   },
   "outputs": [
    {
     "data": {
      "text/plain": [
       "((32002, 5), (32002,))"
      ]
     },
     "execution_count": 8,
     "metadata": {},
     "output_type": "execute_result"
    }
   ],
   "source": [
    "X = transformdf_np[:, 1:]\n",
    "y = transformdf_np[:, 0]\n",
    "\n",
    "X.shape, y.shape"
   ]
  },
  {
   "cell_type": "code",
   "execution_count": 9,
   "metadata": {
    "colab": {
     "base_uri": "https://localhost:8080/"
    },
    "executionInfo": {
     "elapsed": 8,
     "status": "ok",
     "timestamp": 1696075784506,
     "user": {
      "displayName": "Abdur Rehman",
      "userId": "02867295503429179451"
     },
     "user_tz": -330
    },
    "id": "XMeoxvf1jQke",
    "outputId": "d43e61c2-b629-4bab-a561-c31cfabbfa20"
   },
   "outputs": [
    {
     "data": {
      "text/plain": [
       "array([[-1.92582156, -1.92598093, -1.92614151, -1.92630238, -1.92646311],\n",
       "       [-1.92582156, -1.92598093, -1.92614151, -1.92630238, -1.92646311],\n",
       "       [-1.92582156, -1.92598093, -1.92614151, -1.92630238, -1.92646311],\n",
       "       ...,\n",
       "       [-0.29873211, -0.29550986, -0.2882891 , -0.30704512, -0.28302007],\n",
       "       [-0.29544258, -0.2882214 , -0.30697617, -0.28295259, -0.27744329],\n",
       "       [-0.28815453, -0.30690742, -0.28288501, -0.27737613, -0.28099428]])"
      ]
     },
     "execution_count": 9,
     "metadata": {},
     "output_type": "execute_result"
    }
   ],
   "source": [
    "X = dc(np.flip(X, axis=1))\n",
    "X"
   ]
  },
  {
   "cell_type": "code",
   "execution_count": 10,
   "metadata": {
    "colab": {
     "base_uri": "https://localhost:8080/"
    },
    "executionInfo": {
     "elapsed": 7,
     "status": "ok",
     "timestamp": 1696075784506,
     "user": {
      "displayName": "Abdur Rehman",
      "userId": "02867295503429179451"
     },
     "user_tz": -330
    },
    "id": "hwa0RWvTjSvL",
    "outputId": "22fcb3f8-a99f-4c23-fb31-cf02adee3fb5"
   },
   "outputs": [
    {
     "data": {
      "text/plain": [
       "30401"
      ]
     },
     "execution_count": 10,
     "metadata": {},
     "output_type": "execute_result"
    }
   ],
   "source": [
    "split_index = int(len(X) * 0.95)\n",
    "\n",
    "split_index"
   ]
  },
  {
   "cell_type": "code",
   "execution_count": 11,
   "metadata": {
    "colab": {
     "base_uri": "https://localhost:8080/"
    },
    "executionInfo": {
     "elapsed": 6,
     "status": "ok",
     "timestamp": 1696075784506,
     "user": {
      "displayName": "Abdur Rehman",
      "userId": "02867295503429179451"
     },
     "user_tz": -330
    },
    "id": "xJaZ0IoLjUpd",
    "outputId": "672f83ee-3d32-4f73-d8c2-4c67efa9036d"
   },
   "outputs": [
    {
     "data": {
      "text/plain": [
       "((30401, 5), (1601, 5), (30401,), (1601,))"
      ]
     },
     "execution_count": 11,
     "metadata": {},
     "output_type": "execute_result"
    }
   ],
   "source": [
    "X_train = X[:split_index]\n",
    "X_test = X[split_index:]\n",
    "\n",
    "y_train = y[:split_index]\n",
    "y_test = y[split_index:]\n",
    "\n",
    "X_train.shape, X_test.shape, y_train.shape, y_test.shape\n"
   ]
  },
  {
   "cell_type": "code",
   "execution_count": 12,
   "metadata": {
    "id": "_Y2QzJNYjc23"
   },
   "outputs": [],
   "source": [
    "svr = SVR()\n",
    "\n",
    "# Define the hyperparameter grid for GridSearchCV\n",
    "param_grid = {\n",
    "    'kernel': ['rbf'],\n",
    "    'C': [0.1,0.2,1,2,3,4,5,6,7,8,9,10],\n",
    "    'gamma': ['scale','auto'] + [0.01, 0.1, 1]\n",
    "}\n",
    "\n",
    "# Create the GridSearchCV object\n",
    "grid_search = GridSearchCV(svr, param_grid, cv=5, scoring='neg_mean_squared_error', n_jobs=-1)\n",
    "\n",
    "# Fit the model to the training data\n",
    "grid_search.fit(X_train, y_train)\n",
    "\n",
    "# Get the best hyperparameters\n",
    "best_params = grid_search.best_params_"
   ]
  },
  {
   "cell_type": "code",
   "execution_count": 13,
   "metadata": {
    "id": "Qut19TpdtxjS"
   },
   "outputs": [],
   "source": [
    "best_params = grid_search.best_params_"
   ]
  },
  {
   "cell_type": "code",
   "execution_count": 14,
   "metadata": {
    "colab": {
     "base_uri": "https://localhost:8080/",
     "height": 74
    },
    "executionInfo": {
     "elapsed": 708,
     "status": "ok",
     "timestamp": 1696075985522,
     "user": {
      "displayName": "Abdur Rehman",
      "userId": "02867295503429179451"
     },
     "user_tz": -330
    },
    "id": "FQQHV2VBt7Rv",
    "outputId": "1356c5bd-d311-4bee-8f5f-1ba395e769ae"
   },
   "outputs": [
    {
     "data": {
      "text/html": [
       "<style>#sk-container-id-1 {color: black;background-color: white;}#sk-container-id-1 pre{padding: 0;}#sk-container-id-1 div.sk-toggleable {background-color: white;}#sk-container-id-1 label.sk-toggleable__label {cursor: pointer;display: block;width: 100%;margin-bottom: 0;padding: 0.3em;box-sizing: border-box;text-align: center;}#sk-container-id-1 label.sk-toggleable__label-arrow:before {content: \"▸\";float: left;margin-right: 0.25em;color: #696969;}#sk-container-id-1 label.sk-toggleable__label-arrow:hover:before {color: black;}#sk-container-id-1 div.sk-estimator:hover label.sk-toggleable__label-arrow:before {color: black;}#sk-container-id-1 div.sk-toggleable__content {max-height: 0;max-width: 0;overflow: hidden;text-align: left;background-color: #f0f8ff;}#sk-container-id-1 div.sk-toggleable__content pre {margin: 0.2em;color: black;border-radius: 0.25em;background-color: #f0f8ff;}#sk-container-id-1 input.sk-toggleable__control:checked~div.sk-toggleable__content {max-height: 200px;max-width: 100%;overflow: auto;}#sk-container-id-1 input.sk-toggleable__control:checked~label.sk-toggleable__label-arrow:before {content: \"▾\";}#sk-container-id-1 div.sk-estimator input.sk-toggleable__control:checked~label.sk-toggleable__label {background-color: #d4ebff;}#sk-container-id-1 div.sk-label input.sk-toggleable__control:checked~label.sk-toggleable__label {background-color: #d4ebff;}#sk-container-id-1 input.sk-hidden--visually {border: 0;clip: rect(1px 1px 1px 1px);clip: rect(1px, 1px, 1px, 1px);height: 1px;margin: -1px;overflow: hidden;padding: 0;position: absolute;width: 1px;}#sk-container-id-1 div.sk-estimator {font-family: monospace;background-color: #f0f8ff;border: 1px dotted black;border-radius: 0.25em;box-sizing: border-box;margin-bottom: 0.5em;}#sk-container-id-1 div.sk-estimator:hover {background-color: #d4ebff;}#sk-container-id-1 div.sk-parallel-item::after {content: \"\";width: 100%;border-bottom: 1px solid gray;flex-grow: 1;}#sk-container-id-1 div.sk-label:hover label.sk-toggleable__label {background-color: #d4ebff;}#sk-container-id-1 div.sk-serial::before {content: \"\";position: absolute;border-left: 1px solid gray;box-sizing: border-box;top: 0;bottom: 0;left: 50%;z-index: 0;}#sk-container-id-1 div.sk-serial {display: flex;flex-direction: column;align-items: center;background-color: white;padding-right: 0.2em;padding-left: 0.2em;position: relative;}#sk-container-id-1 div.sk-item {position: relative;z-index: 1;}#sk-container-id-1 div.sk-parallel {display: flex;align-items: stretch;justify-content: center;background-color: white;position: relative;}#sk-container-id-1 div.sk-item::before, #sk-container-id-1 div.sk-parallel-item::before {content: \"\";position: absolute;border-left: 1px solid gray;box-sizing: border-box;top: 0;bottom: 0;left: 50%;z-index: -1;}#sk-container-id-1 div.sk-parallel-item {display: flex;flex-direction: column;z-index: 1;position: relative;background-color: white;}#sk-container-id-1 div.sk-parallel-item:first-child::after {align-self: flex-end;width: 50%;}#sk-container-id-1 div.sk-parallel-item:last-child::after {align-self: flex-start;width: 50%;}#sk-container-id-1 div.sk-parallel-item:only-child::after {width: 0;}#sk-container-id-1 div.sk-dashed-wrapped {border: 1px dashed gray;margin: 0 0.4em 0.5em 0.4em;box-sizing: border-box;padding-bottom: 0.4em;background-color: white;}#sk-container-id-1 div.sk-label label {font-family: monospace;font-weight: bold;display: inline-block;line-height: 1.2em;}#sk-container-id-1 div.sk-label-container {text-align: center;}#sk-container-id-1 div.sk-container {/* jupyter's `normalize.less` sets `[hidden] { display: none; }` but bootstrap.min.css set `[hidden] { display: none !important; }` so we also need the `!important` here to be able to override the default hidden behavior on the sphinx rendered scikit-learn.org. See: https://github.com/scikit-learn/scikit-learn/issues/21755 */display: inline-block !important;position: relative;}#sk-container-id-1 div.sk-text-repr-fallback {display: none;}</style><div id=\"sk-container-id-1\" class=\"sk-top-container\"><div class=\"sk-text-repr-fallback\"><pre>SVR(C=10, gamma=0.01)</pre><b>In a Jupyter environment, please rerun this cell to show the HTML representation or trust the notebook. <br />On GitHub, the HTML representation is unable to render, please try loading this page with nbviewer.org.</b></div><div class=\"sk-container\" hidden><div class=\"sk-item\"><div class=\"sk-estimator sk-toggleable\"><input class=\"sk-toggleable__control sk-hidden--visually\" id=\"sk-estimator-id-1\" type=\"checkbox\" checked><label for=\"sk-estimator-id-1\" class=\"sk-toggleable__label sk-toggleable__label-arrow\">SVR</label><div class=\"sk-toggleable__content\"><pre>SVR(C=10, gamma=0.01)</pre></div></div></div></div></div>"
      ],
      "text/plain": [
       "SVR(C=10, gamma=0.01)"
      ]
     },
     "execution_count": 14,
     "metadata": {},
     "output_type": "execute_result"
    }
   ],
   "source": [
    "best_svr = SVR(**best_params)\n",
    "best_svr.fit(X_train, y_train)"
   ]
  },
  {
   "cell_type": "code",
   "execution_count": 15,
   "metadata": {
    "id": "YS71R2cWt7dJ"
   },
   "outputs": [],
   "source": [
    "y_pred = best_svr.predict(X_test)\n",
    "y_pred_train=best_svr.predict(X_train)"
   ]
  },
  {
   "cell_type": "markdown",
   "metadata": {
    "id": "4OI7R5_tzEGJ"
   },
   "source": [
    "## Perfomance Metrics of Testing Data"
   ]
  },
  {
   "cell_type": "code",
   "execution_count": 16,
   "metadata": {
    "colab": {
     "base_uri": "https://localhost:8080/"
    },
    "executionInfo": {
     "elapsed": 7,
     "status": "ok",
     "timestamp": 1696075985523,
     "user": {
      "displayName": "Abdur Rehman",
      "userId": "02867295503429179451"
     },
     "user_tz": -330
    },
    "id": "JukaBrBGt7lM",
    "outputId": "babe0d57-e80a-4928-df45-954173d7f069"
   },
   "outputs": [
    {
     "data": {
      "text/plain": [
       "0.00038175168230647976"
      ]
     },
     "execution_count": 16,
     "metadata": {},
     "output_type": "execute_result"
    }
   ],
   "source": [
    "mean_squared_error(y_test, y_pred)"
   ]
  },
  {
   "cell_type": "markdown",
   "metadata": {
    "id": "AhRETPKZP-dA"
   },
   "source": []
  },
  {
   "cell_type": "code",
   "execution_count": 17,
   "metadata": {
    "colab": {
     "base_uri": "https://localhost:8080/"
    },
    "executionInfo": {
     "elapsed": 6,
     "status": "ok",
     "timestamp": 1696075985523,
     "user": {
      "displayName": "Abdur Rehman",
      "userId": "02867295503429179451"
     },
     "user_tz": -330
    },
    "id": "WGG0zqX8uiYg",
    "outputId": "b49946d1-f6b8-47da-eb81-29f3d8ebd32a"
   },
   "outputs": [
    {
     "data": {
      "text/plain": [
       "0.01953846673376598"
      ]
     },
     "execution_count": 17,
     "metadata": {},
     "output_type": "execute_result"
    }
   ],
   "source": [
    "math.sqrt(mean_squared_error(y_test,y_pred))"
   ]
  },
  {
   "cell_type": "markdown",
   "metadata": {
    "id": "YonNoPUdQTbj"
   },
   "source": []
  },
  {
   "cell_type": "code",
   "execution_count": 18,
   "metadata": {
    "colab": {
     "base_uri": "https://localhost:8080/"
    },
    "executionInfo": {
     "elapsed": 5,
     "status": "ok",
     "timestamp": 1696075985523,
     "user": {
      "displayName": "Abdur Rehman",
      "userId": "02867295503429179451"
     },
     "user_tz": -330
    },
    "id": "lHdPpyZ9uihe",
    "outputId": "6861d540-56d6-4aca-d625-133ff74a8b0c"
   },
   "outputs": [
    {
     "data": {
      "text/plain": [
       "0.9693919982713001"
      ]
     },
     "execution_count": 18,
     "metadata": {},
     "output_type": "execute_result"
    }
   ],
   "source": [
    "r2_score(y_test, y_pred)"
   ]
  },
  {
   "cell_type": "markdown",
   "metadata": {},
   "source": [
    "## Perfomance Metrics of Training Data"
   ]
  },
  {
   "cell_type": "code",
   "execution_count": 19,
   "metadata": {},
   "outputs": [
    {
     "data": {
      "text/plain": [
       "0.0006669025289275933"
      ]
     },
     "execution_count": 19,
     "metadata": {},
     "output_type": "execute_result"
    }
   ],
   "source": [
    "mean_squared_error(y_train, y_pred_train)"
   ]
  },
  {
   "cell_type": "code",
   "execution_count": 20,
   "metadata": {},
   "outputs": [
    {
     "data": {
      "text/plain": [
       "0.025824456023846722"
      ]
     },
     "execution_count": 20,
     "metadata": {},
     "output_type": "execute_result"
    }
   ],
   "source": [
    "math.sqrt(mean_squared_error(y_train, y_pred_train))"
   ]
  },
  {
   "cell_type": "code",
   "execution_count": 21,
   "metadata": {},
   "outputs": [
    {
     "data": {
      "text/plain": [
       "0.9993653473830835"
      ]
     },
     "execution_count": 21,
     "metadata": {},
     "output_type": "execute_result"
    }
   ],
   "source": [
    "r2_score(y_train, y_pred_train)"
   ]
  },
  {
   "cell_type": "code",
   "execution_count": 22,
   "metadata": {
    "colab": {
     "base_uri": "https://localhost:8080/",
     "height": 465
    },
    "executionInfo": {
     "elapsed": 1148,
     "status": "ok",
     "timestamp": 1696075986666,
     "user": {
      "displayName": "Abdur Rehman",
      "userId": "02867295503429179451"
     },
     "user_tz": -330
    },
    "id": "6wSFZUhTtniA",
    "outputId": "24bd57d5-4103-4e85-8e6f-ea3da3ec1c1c"
   },
   "outputs": [
    {
     "data": {
      "image/png": "[encoded data removed]",
      "text/plain": [
       "<Figure size 1400x500 with 1 Axes>"
      ]
     },
     "metadata": {},
     "output_type": "display_data"
    }
   ],
   "source": [
    "# Visualising the results\n",
    "plt.figure(figsize=(14,5))\n",
    "plt.plot(y_test, color = 'red', label = 'Real Nifty 50 Index ')\n",
    "plt.plot(y_pred, color = 'green', label = 'Predicted Nifty 50 Index ')\n",
    "plt.title('Nifty 50 Index')\n",
    "plt.xlabel('Time')\n",
    "plt.ylabel('Nifty 50 Index')\n",
    "plt.legend()\n",
    "plt.show()"
   ]
  }
 ],
 "metadata": {
  "accelerator": "TPU",
  "colab": {
   "authorship_tag": "ABX9TyO1ZirF/laN4i0qYRHZcaBJ",
   "provenance": [
    {
     "file_id": "1WIgEHm95RnMSLaphS8CyMsgcwdzRbMJQ",
     "timestamp": 1696067893097
    },
    {
     "file_id": "1TC-Ai0pHDato2pyorvVGkyLg1vT_xDmG",
     "timestamp": 1695424467395
    },
    {
     "file_id": "1CqL7at8YNLtLRexzzxMeVzKZvo9vES_d",
     "timestamp": 1695423794091
    }
   ]
  },
  "kernelspec": {
   "display_name": "Python 3 (ipykernel)",
   "language": "python",
   "name": "python3"
  },
  "language_info": {
   "codemirror_mode": {
    "name": "ipython",
    "version": 3
   },
   "file_extension": ".py",
   "mimetype": "text/x-python",
   "name": "python",
   "nbconvert_exporter": "python",
   "pygments_lexer": "ipython3",
   "version": "3.10.9"
  }
 },
 "nbformat": 4,
 "nbformat_minor": 4
}
